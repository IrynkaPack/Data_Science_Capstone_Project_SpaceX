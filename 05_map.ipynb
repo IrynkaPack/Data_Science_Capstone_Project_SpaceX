{
  "metadata": {
    "kernelspec": {
      "name": "python",
      "display_name": "Python (Pyodide)",
      "language": "python"
    },
    "language_info": {
      "name": ""
    }
  },
  "nbformat_minor": 4,
  "nbformat": 4,
  "cells": [
    {
      "cell_type": "markdown",
      "source": "**You can view the map from Lab 05 using this link: [Launch Site Location Map](https://nbviewer.org/github/IrynkaPack/Data_Science_Capstone_Project_SpaceX/blob/5fe49bfb459ea2e90c8bdfc26ab3ae29f47fc7ea/map.html).**\"\n\n",
      "metadata": {}
    }
  ]
}